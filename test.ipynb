{
 "cells": [
  {
   "cell_type": "code",
   "execution_count": 2,
   "metadata": {},
   "outputs": [
    {
     "name": "stdout",
     "output_type": "stream",
     "text": [
      "{'docid': 'http://www.wikidata.org/entity/Q33199', 'title': 'Austroasiatic languages', 'text': 'The Austroasiatic languages, in recent classifications synonymous with Mon–Khmer, are a large language family of continental Southeast Asia, also scattered throughout India, Bangladesh, Nepal and the southern border of China. The name Austroasiatic comes from the Latin words for \"south\" and \"Asia\", hence \"South Asia\". Of these languages, only Vietnamese, Khmer, and Mon have a long-established recorded history, and only Vietnamese and Khmer have official status (in Vietnam and Cambodia, respectively). The rest of the languages are spoken by minority groups. Ethnologue identifies 168 Austroasiatic languages. These form thirteen established families (plus perhaps Shompen, which is poorly attested, as a fourteenth), which have traditionally been grouped into two, as Mon–Khmer and Munda. However, one recent classification posits three groups (Munda, Nuclear Mon-Khmer and Khasi-Khmuic) while another has abandoned Mon–Khmer as a taxon altogether, making it synonymous with the larger family. Austroasiatic languages have a disjunct distribution across India, Bangladesh, Nepal and Southeast Asia, separated by regions where other languages are spoken. They appear to be the autochthonous languages of Southeast Asia, with the neighboring Indo-Aryan, Tai–Kadai, Dravidian, Austronesian, and Sino-Tibetan languages being the result of later migrations.', 'uri': 'http://www.wikidata.org/entity/Q33199', 'entities': [{'boundaries': [4, 27], 'surfaceform': 'Austroasiatic languages', 'uri': 'http://www.wikidata.org/entity/Q33199', 'annotator': 'Wikidata_Spotlight_Entity_Linker'}, {'boundaries': [71, 80], 'surfaceform': 'Mon–Khmer', 'uri': 'http://www.wikidata.org/entity/Q33199', 'annotator': 'Wikidata_Spotlight_Entity_Linker'}, {'boundaries': [94, 109], 'surfaceform': 'language family', 'uri': 'http://www.wikidata.org/entity/Q25295', 'annotator': 'Wikidata_Spotlight_Entity_Linker'}, {'boundaries': [125, 139], 'surfaceform': 'Southeast Asia', 'uri': 'http://www.wikidata.org/entity/Q11708', 'annotator': 'Wikidata_Spotlight_Entity_Linker'}, {'boundaries': [167, 172], 'surfaceform': 'India', 'uri': 'http://www.wikidata.org/entity/Q668', 'annotator': 'Wikidata_Spotlight_Entity_Linker'}, {'boundaries': [174, 184], 'surfaceform': 'Bangladesh', 'uri': 'http://www.wikidata.org/entity/Q902', 'annotator': 'Wikidata_Spotlight_Entity_Linker'}, {'boundaries': [186, 191], 'surfaceform': 'Nepal', 'uri': 'http://www.wikidata.org/entity/Q837', 'annotator': 'Wikidata_Spotlight_Entity_Linker'}, {'boundaries': [219, 224], 'surfaceform': 'China', 'uri': 'http://www.wikidata.org/entity/Q148', 'annotator': 'Wikidata_Spotlight_Entity_Linker'}, {'boundaries': [235, 248], 'surfaceform': 'Austroasiatic', 'uri': 'http://www.wikidata.org/entity/Q33199', 'annotator': 'Wikidata_Spotlight_Entity_Linker'}, {'boundaries': [264, 269], 'surfaceform': 'Latin', 'uri': 'http://www.wikidata.org/entity/Q41670', 'annotator': 'Wikidata_Spotlight_Entity_Linker'}, {'boundaries': [293, 297], 'surfaceform': 'Asia', 'uri': 'http://www.wikidata.org/entity/Q48', 'annotator': 'Wikidata_Spotlight_Entity_Linker'}, {'boundaries': [307, 317], 'surfaceform': 'South Asia', 'uri': 'http://www.wikidata.org/entity/Q771405', 'annotator': 'Wikidata_Spotlight_Entity_Linker'}, {'boundaries': [345, 355], 'surfaceform': 'Vietnamese', 'uri': 'http://www.wikidata.org/entity/Q9199', 'annotator': 'Wikidata_Spotlight_Entity_Linker'}, {'boundaries': [357, 362], 'surfaceform': 'Khmer', 'uri': 'http://www.wikidata.org/entity/Q9205', 'annotator': 'Wikidata_Spotlight_Entity_Linker'}, {'boundaries': [368, 371], 'surfaceform': 'Mon', 'uri': 'http://www.wikidata.org/entity/Q13349', 'annotator': 'Wikidata_Spotlight_Entity_Linker'}, {'boundaries': [396, 412], 'surfaceform': 'recorded history', 'uri': 'http://www.wikidata.org/entity/Q1145106', 'annotator': 'Wikidata_Spotlight_Entity_Linker'}, {'boundaries': [423, 433], 'surfaceform': 'Vietnamese', 'uri': 'http://www.wikidata.org/entity/Q9199', 'annotator': 'Wikidata_Spotlight_Entity_Linker'}, {'boundaries': [438, 443], 'surfaceform': 'Khmer', 'uri': 'http://www.wikidata.org/entity/Q9205', 'annotator': 'Wikidata_Spotlight_Entity_Linker'}, {'boundaries': [469, 476], 'surfaceform': 'Vietnam', 'uri': 'http://www.wikidata.org/entity/Q881', 'annotator': 'Wikidata_Spotlight_Entity_Linker'}, {'boundaries': [481, 489], 'surfaceform': 'Cambodia', 'uri': 'http://www.wikidata.org/entity/Q424', 'annotator': 'Wikidata_Spotlight_Entity_Linker'}, {'boundaries': [563, 573], 'surfaceform': 'Ethnologue', 'uri': 'http://www.wikidata.org/entity/Q14790', 'annotator': 'Wikidata_Spotlight_Entity_Linker'}, {'boundaries': [589, 612], 'surfaceform': 'Austroasiatic languages', 'uri': 'http://www.wikidata.org/entity/Q33199', 'annotator': 'Wikidata_Spotlight_Entity_Linker'}, {'boundaries': [669, 676], 'surfaceform': 'Shompen', 'uri': 'http://www.wikidata.org/entity/Q1039346', 'annotator': 'Wikidata_Spotlight_Entity_Linker'}, {'boundaries': [773, 782], 'surfaceform': 'Mon–Khmer', 'uri': 'http://www.wikidata.org/entity/Q33199', 'annotator': 'Wikidata_Spotlight_Entity_Linker'}, {'boundaries': [787, 792], 'surfaceform': 'Munda', 'uri': 'http://www.wikidata.org/entity/Q33892', 'annotator': 'Wikidata_Spotlight_Entity_Linker'}, {'boundaries': [850, 855], 'surfaceform': 'Munda', 'uri': 'http://www.wikidata.org/entity/Q33892', 'annotator': 'Wikidata_Spotlight_Entity_Linker'}, {'boundaries': [865, 874], 'surfaceform': 'Mon-Khmer', 'uri': 'http://www.wikidata.org/entity/Q33199', 'annotator': 'Wikidata_Spotlight_Entity_Linker'}, {'boundaries': [921, 930], 'surfaceform': 'Mon–Khmer', 'uri': 'http://www.wikidata.org/entity/Q33199', 'annotator': 'Wikidata_Spotlight_Entity_Linker'}, {'boundaries': [936, 941], 'surfaceform': 'taxon', 'uri': 'http://www.wikidata.org/entity/Q427626', 'annotator': 'Wikidata_Spotlight_Entity_Linker'}, {'boundaries': [999, 1022], 'surfaceform': 'Austroasiatic languages', 'uri': 'http://www.wikidata.org/entity/Q33199', 'annotator': 'Wikidata_Spotlight_Entity_Linker'}, {'boundaries': [1030, 1051], 'surfaceform': 'disjunct distribution', 'uri': 'http://www.wikidata.org/entity/Q1228546', 'annotator': 'Wikidata_Spotlight_Entity_Linker'}, {'boundaries': [1059, 1064], 'surfaceform': 'India', 'uri': 'http://www.wikidata.org/entity/Q16056640', 'annotator': 'Wikidata_Spotlight_Entity_Linker'}, {'boundaries': [1066, 1076], 'surfaceform': 'Bangladesh', 'uri': 'http://www.wikidata.org/entity/Q902', 'annotator': 'Wikidata_Spotlight_Entity_Linker'}, {'boundaries': [1078, 1083], 'surfaceform': 'Nepal', 'uri': 'http://www.wikidata.org/entity/Q837', 'annotator': 'Wikidata_Spotlight_Entity_Linker'}, {'boundaries': [1088, 1102], 'surfaceform': 'Southeast Asia', 'uri': 'http://www.wikidata.org/entity/Q11708', 'annotator': 'Wikidata_Spotlight_Entity_Linker'}, {'boundaries': [1181, 1194], 'surfaceform': 'autochthonous', 'uri': 'http://www.wikidata.org/entity/Q645304', 'annotator': 'Wikidata_Spotlight_Entity_Linker'}, {'boundaries': [1208, 1222], 'surfaceform': 'Southeast Asia', 'uri': 'http://www.wikidata.org/entity/Q11708', 'annotator': 'Wikidata_Spotlight_Entity_Linker'}, {'boundaries': [1245, 1255], 'surfaceform': 'Indo-Aryan', 'uri': 'http://www.wikidata.org/entity/Q33577', 'annotator': 'Wikidata_Spotlight_Entity_Linker'}, {'boundaries': [1268, 1277], 'surfaceform': 'Dravidian', 'uri': 'http://www.wikidata.org/entity/Q33311', 'annotator': 'Wikidata_Spotlight_Entity_Linker'}, {'boundaries': [1279, 1291], 'surfaceform': 'Austronesian', 'uri': 'http://www.wikidata.org/entity/Q49228', 'annotator': 'Wikidata_Spotlight_Entity_Linker'}, {'boundaries': [1297, 1319], 'surfaceform': 'Sino-Tibetan languages', 'uri': 'http://www.wikidata.org/entity/Q45961', 'annotator': 'Wikidata_Spotlight_Entity_Linker'}, {'boundaries': [71, 74], 'surfaceform': 'Mon', 'uri': '2017-05-01T00:00:00Z^^http://www.w3.org/2001/XMLSchema#dateTime', 'annotator': 'Date_Linker'}, {'boundaries': [368, 371], 'surfaceform': 'Mon', 'uri': '2017-05-01T00:00:00Z^^http://www.w3.org/2001/XMLSchema#dateTime', 'annotator': 'Date_Linker'}, {'boundaries': [773, 776], 'surfaceform': 'Mon', 'uri': '2017-05-01T00:00:00Z^^http://www.w3.org/2001/XMLSchema#dateTime', 'annotator': 'Date_Linker'}, {'boundaries': [921, 924], 'surfaceform': 'Mon', 'uri': '2017-05-01T00:00:00Z^^http://www.w3.org/2001/XMLSchema#dateTime', 'annotator': 'Date_Linker'}, {'boundaries': [1159, 1163], 'surfaceform': 'They', 'uri': 'http://www.wikidata.org/entity/Q33199', 'annotator': 'Simple_Coreference'}, {'boundaries': [1330, 1339], 'surfaceform': 'result of', 'uri': 'http://www.wikidata.org/prop/direct/P828', 'annotator': 'Wikidata_Property_Linker'}, {'boundaries': [1330, 1336], 'surfaceform': 'result', 'uri': 'http://www.wikidata.org/prop/direct/P1542', 'annotator': 'Wikidata_Property_Linker'}, {'boundaries': [1039, 1051], 'surfaceform': 'distribution', 'uri': 'http://www.wikidata.org/prop/direct/P437', 'annotator': 'Wikidata_Property_Linker'}, {'boundaries': [384, 395], 'surfaceform': 'established', 'uri': 'http://www.wikidata.org/prop/direct/P571', 'annotator': 'Wikidata_Property_Linker'}, {'boundaries': [634, 645], 'surfaceform': 'established', 'uri': 'http://www.wikidata.org/prop/direct/P571', 'annotator': 'Wikidata_Property_Linker'}, {'boundaries': [103, 109], 'surfaceform': 'family', 'uri': 'http://www.wikidata.org/prop/direct/P1038', 'annotator': 'Wikidata_Property_Linker'}, {'boundaries': [991, 997], 'surfaceform': 'family', 'uri': 'http://www.wikidata.org/prop/direct/P1038', 'annotator': 'Wikidata_Property_Linker'}, {'boundaries': [405, 412], 'surfaceform': 'history', 'uri': 'http://www.wikidata.org/prop/direct/P2184', 'annotator': 'Wikidata_Property_Linker'}, {'boundaries': [209, 215], 'surfaceform': 'border', 'uri': 'http://www.wikidata.org/prop/direct/P47', 'annotator': 'Wikidata_Property_Linker'}, {'boundaries': [94, 102], 'surfaceform': 'language', 'uri': 'http://www.wikidata.org/prop/direct/P2439', 'annotator': 'Wikidata_Property_Linker'}, {'boundaries': [249, 259], 'surfaceform': 'comes from', 'uri': 'http://www.wikidata.org/prop/direct/P1582', 'annotator': 'Wikidata_Property_Linker'}, {'boundaries': [230, 234], 'surfaceform': 'name', 'uri': 'http://www.wikidata.org/prop/direct/P1448', 'annotator': 'Wikidata_Property_Linker'}], 'words_boundaries': [[0, 3], [4, 17], [18, 27], [27, 28], [29, 31], [32, 38], [39, 54], [55, 65], [66, 70], [71, 74], [74, 75], [75, 80], [80, 81], [82, 85], [86, 87], [88, 93], [94, 102], [103, 109], [110, 112], [113, 124], [125, 134], [135, 139], [139, 140], [141, 145], [146, 155], [156, 166], [167, 172], [172, 173], [174, 184], [184, 185], [186, 191], [192, 195], [196, 199], [200, 208], [209, 215], [216, 218], [219, 224], [224, 225], [226, 229], [230, 234], [235, 248], [249, 254], [255, 259], [260, 263], [264, 269], [270, 275], [276, 279], [280, 281], [281, 286], [286, 287], [288, 291], [292, 293], [293, 297], [297, 299], [300, 305], [306, 307], [307, 312], [313, 317], [317, 319], [320, 322], [323, 328], [329, 338], [338, 339], [340, 344], [345, 355], [355, 356], [357, 362], [362, 363], [364, 367], [368, 371], [372, 376], [377, 378], [379, 383], [383, 384], [384, 395], [396, 404], [405, 412], [412, 413], [414, 417], [418, 422], [423, 433], [434, 437], [438, 443], [444, 448], [449, 457], [458, 464], [465, 466], [466, 468], [469, 476], [477, 480], [481, 489], [489, 490], [491, 503], [503, 505], [506, 509], [510, 514], [515, 517], [518, 521], [522, 531], [532, 535], [536, 542], [543, 545], [546, 554], [555, 561], [561, 562], [563, 573], [574, 584], [585, 588], [589, 602], [603, 612], [612, 613], [614, 619], [620, 624], [625, 633], [634, 645], [646, 654], [655, 656], [656, 660], [661, 668], [669, 676], [676, 677], [678, 683], [684, 686], [687, 693], [694, 702], [702, 703], [704, 706], [707, 708], [709, 719], [719, 721], [722, 727], [728, 732], [733, 746], [747, 751], [752, 759], [760, 764], [765, 768], [768, 769], [770, 772], [773, 776], [776, 777], [777, 782], [783, 786], [787, 792], [792, 793], [794, 801], [801, 802], [803, 806], [807, 813], [814, 828], [829, 835], [836, 841], [842, 848], [849, 850], [850, 855], [855, 856], [857, 864], [865, 868], [868, 869], [869, 874], [875, 878], [879, 884], [884, 885], [885, 891], [891, 892], [893, 898], [899, 906], [907, 910], [911, 920], [921, 924], [924, 925], [925, 930], [931, 933], [934, 935], [936, 941], [942, 952], [952, 953], [954, 960], [961, 963], [964, 974], [975, 979], [980, 983], [984, 990], [991, 997], [997, 998], [999, 1012], [1013, 1022], [1023, 1027], [1028, 1029], [1030, 1038], [1039, 1051], [1052, 1058], [1059, 1064], [1064, 1065], [1066, 1076], [1076, 1077], [1078, 1083], [1084, 1087], [1088, 1097], [1098, 1102], [1102, 1103], [1104, 1113], [1114, 1116], [1117, 1124], [1125, 1130], [1131, 1136], [1137, 1146], [1147, 1150], [1151, 1157], [1157, 1158], [1159, 1163], [1164, 1170], [1171, 1173], [1174, 1176], [1177, 1180], [1181, 1194], [1195, 1204], [1205, 1207], [1208, 1217], [1218, 1222], [1222, 1223], [1224, 1228], [1229, 1232], [1233, 1244], [1245, 1249], [1249, 1250], [1250, 1255], [1255, 1256], [1257, 1260], [1260, 1261], [1261, 1266], [1266, 1267], [1268, 1277], [1277, 1278], [1279, 1291], [1291, 1292], [1293, 1296], [1297, 1301], [1301, 1302], [1302, 1309], [1310, 1319], [1320, 1325], [1326, 1329], [1330, 1336], [1337, 1339], [1340, 1345], [1346, 1356], [1356, 1357]], 'triples': [{'sentence_id': 0, 'predicate': {'boundaries': None, 'surfaceform': None, 'uri': 'http://www.wikidata.org/prop/direct/P31', 'annotator': 'NoSubject-Triple-aligner'}, 'object': {'boundaries': [94, 109], 'surfaceform': 'language family', 'uri': 'http://www.wikidata.org/entity/Q25295', 'annotator': 'Wikidata_Spotlight_Entity_Linker'}, 'dependency_path': None, 'confidence': None, 'subject': {'boundaries': [4, 27], 'surfaceform': 'Austroasiatic languages', 'uri': 'http://www.wikidata.org/entity/Q33199', 'annotator': 'Wikidata_Spotlight_Entity_Linker'}, 'annotator': 'NoSubject-Triple-aligner'}, {'sentence_id': 0, 'predicate': {'boundaries': None, 'surfaceform': None, 'uri': 'http://www.wikidata.org/prop/direct/P31', 'annotator': 'Simple-Aligner'}, 'object': {'boundaries': [94, 109], 'surfaceform': 'language family', 'uri': 'http://www.wikidata.org/entity/Q25295', 'annotator': 'Wikidata_Spotlight_Entity_Linker'}, 'dependency_path': None, 'confidence': None, 'subject': {'boundaries': [4, 27], 'surfaceform': 'Austroasiatic languages', 'uri': 'http://www.wikidata.org/entity/Q33199', 'annotator': 'Wikidata_Spotlight_Entity_Linker'}, 'annotator': 'Simple-Aligner'}, {'sentence_id': 0, 'predicate': {'boundaries': None, 'surfaceform': None, 'uri': 'http://www.wikidata.org/prop/direct/P31', 'annotator': 'Simple-Aligner'}, 'object': {'boundaries': [94, 109], 'surfaceform': 'language family', 'uri': 'http://www.wikidata.org/entity/Q25295', 'annotator': 'Wikidata_Spotlight_Entity_Linker'}, 'dependency_path': None, 'confidence': None, 'subject': {'boundaries': [71, 80], 'surfaceform': 'Mon–Khmer', 'uri': 'http://www.wikidata.org/entity/Q33199', 'annotator': 'Wikidata_Spotlight_Entity_Linker'}, 'annotator': 'Simple-Aligner'}, {'sentence_id': 0, 'predicate': {'boundaries': None, 'surfaceform': None, 'uri': 'http://www.wikidata.org/prop/direct/P47', 'annotator': 'Simple-Aligner'}, 'object': {'boundaries': [174, 184], 'surfaceform': 'Bangladesh', 'uri': 'http://www.wikidata.org/entity/Q902', 'annotator': 'Wikidata_Spotlight_Entity_Linker'}, 'dependency_path': None, 'confidence': None, 'subject': {'boundaries': [167, 172], 'surfaceform': 'India', 'uri': 'http://www.wikidata.org/entity/Q668', 'annotator': 'Wikidata_Spotlight_Entity_Linker'}, 'annotator': 'Simple-Aligner'}, {'sentence_id': 0, 'predicate': {'boundaries': None, 'surfaceform': None, 'uri': 'http://www.wikidata.org/prop/direct/P47', 'annotator': 'Simple-Aligner'}, 'object': {'boundaries': [186, 191], 'surfaceform': 'Nepal', 'uri': 'http://www.wikidata.org/entity/Q837', 'annotator': 'Wikidata_Spotlight_Entity_Linker'}, 'dependency_path': None, 'confidence': None, 'subject': {'boundaries': [167, 172], 'surfaceform': 'India', 'uri': 'http://www.wikidata.org/entity/Q668', 'annotator': 'Wikidata_Spotlight_Entity_Linker'}, 'annotator': 'Simple-Aligner'}, {'sentence_id': 0, 'predicate': {'boundaries': None, 'surfaceform': None, 'uri': 'http://www.wikidata.org/prop/direct/P47', 'annotator': 'Simple-Aligner'}, 'object': {'boundaries': [219, 224], 'surfaceform': 'China', 'uri': 'http://www.wikidata.org/entity/Q148', 'annotator': 'Wikidata_Spotlight_Entity_Linker'}, 'dependency_path': None, 'confidence': None, 'subject': {'boundaries': [167, 172], 'surfaceform': 'India', 'uri': 'http://www.wikidata.org/entity/Q668', 'annotator': 'Wikidata_Spotlight_Entity_Linker'}, 'annotator': 'Simple-Aligner'}, {'sentence_id': 0, 'predicate': {'boundaries': None, 'surfaceform': None, 'uri': 'http://www.wikidata.org/prop/direct/P47', 'annotator': 'Simple-Aligner'}, 'object': {'boundaries': [167, 172], 'surfaceform': 'India', 'uri': 'http://www.wikidata.org/entity/Q668', 'annotator': 'Wikidata_Spotlight_Entity_Linker'}, 'dependency_path': None, 'confidence': None, 'subject': {'boundaries': [174, 184], 'surfaceform': 'Bangladesh', 'uri': 'http://www.wikidata.org/entity/Q902', 'annotator': 'Wikidata_Spotlight_Entity_Linker'}, 'annotator': 'Simple-Aligner'}, {'sentence_id': 0, 'predicate': {'boundaries': None, 'surfaceform': None, 'uri': 'http://www.wikidata.org/prop/direct/P47', 'annotator': 'Simple-Aligner'}, 'object': {'boundaries': [167, 172], 'surfaceform': 'India', 'uri': 'http://www.wikidata.org/entity/Q668', 'annotator': 'Wikidata_Spotlight_Entity_Linker'}, 'dependency_path': None, 'confidence': None, 'subject': {'boundaries': [186, 191], 'surfaceform': 'Nepal', 'uri': 'http://www.wikidata.org/entity/Q837', 'annotator': 'Wikidata_Spotlight_Entity_Linker'}, 'annotator': 'Simple-Aligner'}, {'sentence_id': 0, 'predicate': {'boundaries': None, 'surfaceform': None, 'uri': 'http://www.wikidata.org/prop/direct/P47', 'annotator': 'Simple-Aligner'}, 'object': {'boundaries': [219, 224], 'surfaceform': 'China', 'uri': 'http://www.wikidata.org/entity/Q148', 'annotator': 'Wikidata_Spotlight_Entity_Linker'}, 'dependency_path': None, 'confidence': None, 'subject': {'boundaries': [186, 191], 'surfaceform': 'Nepal', 'uri': 'http://www.wikidata.org/entity/Q837', 'annotator': 'Wikidata_Spotlight_Entity_Linker'}, 'annotator': 'Simple-Aligner'}, {'sentence_id': 0, 'predicate': {'boundaries': None, 'surfaceform': None, 'uri': 'http://www.wikidata.org/prop/direct/P47', 'annotator': 'Simple-Aligner'}, 'object': {'boundaries': [167, 172], 'surfaceform': 'India', 'uri': 'http://www.wikidata.org/entity/Q668', 'annotator': 'Wikidata_Spotlight_Entity_Linker'}, 'dependency_path': None, 'confidence': None, 'subject': {'boundaries': [219, 224], 'surfaceform': 'China', 'uri': 'http://www.wikidata.org/entity/Q148', 'annotator': 'Wikidata_Spotlight_Entity_Linker'}, 'annotator': 'Simple-Aligner'}, {'sentence_id': 0, 'predicate': {'boundaries': None, 'surfaceform': None, 'uri': 'http://www.wikidata.org/prop/direct/P47', 'annotator': 'Simple-Aligner'}, 'object': {'boundaries': [186, 191], 'surfaceform': 'Nepal', 'uri': 'http://www.wikidata.org/entity/Q837', 'annotator': 'Wikidata_Spotlight_Entity_Linker'}, 'dependency_path': None, 'confidence': None, 'subject': {'boundaries': [219, 224], 'surfaceform': 'China', 'uri': 'http://www.wikidata.org/entity/Q148', 'annotator': 'Wikidata_Spotlight_Entity_Linker'}, 'annotator': 'Simple-Aligner'}, {'sentence_id': 1, 'predicate': {'boundaries': None, 'surfaceform': None, 'uri': 'http://www.wikidata.org/prop/direct/P361', 'annotator': 'Simple-Aligner'}, 'object': {'boundaries': [293, 297], 'surfaceform': 'Asia', 'uri': 'http://www.wikidata.org/entity/Q48', 'annotator': 'Wikidata_Spotlight_Entity_Linker'}, 'dependency_path': None, 'confidence': None, 'subject': {'boundaries': [307, 317], 'surfaceform': 'South Asia', 'uri': 'http://www.wikidata.org/entity/Q771405', 'annotator': 'Wikidata_Spotlight_Entity_Linker'}, 'annotator': 'Simple-Aligner'}, {'sentence_id': 1, 'predicate': {'boundaries': None, 'surfaceform': None, 'uri': 'http://www.wikidata.org/prop/direct/P30', 'annotator': 'Simple-Aligner'}, 'object': {'boundaries': [293, 297], 'surfaceform': 'Asia', 'uri': 'http://www.wikidata.org/entity/Q48', 'annotator': 'Wikidata_Spotlight_Entity_Linker'}, 'dependency_path': None, 'confidence': None, 'subject': {'boundaries': [307, 317], 'surfaceform': 'South Asia', 'uri': 'http://www.wikidata.org/entity/Q771405', 'annotator': 'Wikidata_Spotlight_Entity_Linker'}, 'annotator': 'Simple-Aligner'}, {'sentence_id': 2, 'predicate': {'boundaries': None, 'surfaceform': None, 'uri': 'http://www.wikidata.org/prop/direct/P17', 'annotator': 'Simple-Aligner'}, 'object': {'boundaries': [481, 489], 'surfaceform': 'Cambodia', 'uri': 'http://www.wikidata.org/entity/Q424', 'annotator': 'Wikidata_Spotlight_Entity_Linker'}, 'dependency_path': None, 'confidence': None, 'subject': {'boundaries': [357, 362], 'surfaceform': 'Khmer', 'uri': 'http://www.wikidata.org/entity/Q9205', 'annotator': 'Wikidata_Spotlight_Entity_Linker'}, 'annotator': 'Simple-Aligner'}, {'sentence_id': 2, 'predicate': {'boundaries': None, 'surfaceform': None, 'uri': 'http://www.wikidata.org/prop/direct/P17', 'annotator': 'Simple-Aligner'}, 'object': {'boundaries': [481, 489], 'surfaceform': 'Cambodia', 'uri': 'http://www.wikidata.org/entity/Q424', 'annotator': 'Wikidata_Spotlight_Entity_Linker'}, 'dependency_path': None, 'confidence': None, 'subject': {'boundaries': [438, 443], 'surfaceform': 'Khmer', 'uri': 'http://www.wikidata.org/entity/Q9205', 'annotator': 'Wikidata_Spotlight_Entity_Linker'}, 'annotator': 'Simple-Aligner'}, {'sentence_id': 2, 'predicate': {'boundaries': None, 'surfaceform': None, 'uri': 'http://www.wikidata.org/prop/direct/P37', 'annotator': 'Simple-Aligner'}, 'object': {'boundaries': [345, 355], 'surfaceform': 'Vietnamese', 'uri': 'http://www.wikidata.org/entity/Q9199', 'annotator': 'Wikidata_Spotlight_Entity_Linker'}, 'dependency_path': None, 'confidence': None, 'subject': {'boundaries': [469, 476], 'surfaceform': 'Vietnam', 'uri': 'http://www.wikidata.org/entity/Q881', 'annotator': 'Wikidata_Spotlight_Entity_Linker'}, 'annotator': 'Simple-Aligner'}, {'sentence_id': 2, 'predicate': {'boundaries': None, 'surfaceform': None, 'uri': 'http://www.wikidata.org/prop/direct/P37', 'annotator': 'Simple-Aligner'}, 'object': {'boundaries': [423, 433], 'surfaceform': 'Vietnamese', 'uri': 'http://www.wikidata.org/entity/Q9199', 'annotator': 'Wikidata_Spotlight_Entity_Linker'}, 'dependency_path': None, 'confidence': None, 'subject': {'boundaries': [469, 476], 'surfaceform': 'Vietnam', 'uri': 'http://www.wikidata.org/entity/Q881', 'annotator': 'Wikidata_Spotlight_Entity_Linker'}, 'annotator': 'Simple-Aligner'}, {'sentence_id': 2, 'predicate': {'boundaries': None, 'surfaceform': None, 'uri': 'http://www.wikidata.org/prop/direct/P47', 'annotator': 'Simple-Aligner'}, 'object': {'boundaries': [481, 489], 'surfaceform': 'Cambodia', 'uri': 'http://www.wikidata.org/entity/Q424', 'annotator': 'Wikidata_Spotlight_Entity_Linker'}, 'dependency_path': None, 'confidence': None, 'subject': {'boundaries': [469, 476], 'surfaceform': 'Vietnam', 'uri': 'http://www.wikidata.org/entity/Q881', 'annotator': 'Wikidata_Spotlight_Entity_Linker'}, 'annotator': 'Simple-Aligner'}, {'sentence_id': 2, 'predicate': {'boundaries': None, 'surfaceform': None, 'uri': 'http://www.wikidata.org/prop/direct/P37', 'annotator': 'Simple-Aligner'}, 'object': {'boundaries': [357, 362], 'surfaceform': 'Khmer', 'uri': 'http://www.wikidata.org/entity/Q9205', 'annotator': 'Wikidata_Spotlight_Entity_Linker'}, 'dependency_path': None, 'confidence': None, 'subject': {'boundaries': [481, 489], 'surfaceform': 'Cambodia', 'uri': 'http://www.wikidata.org/entity/Q424', 'annotator': 'Wikidata_Spotlight_Entity_Linker'}, 'annotator': 'Simple-Aligner'}, {'sentence_id': 2, 'predicate': {'boundaries': None, 'surfaceform': None, 'uri': 'http://www.wikidata.org/prop/direct/P37', 'annotator': 'Simple-Aligner'}, 'object': {'boundaries': [438, 443], 'surfaceform': 'Khmer', 'uri': 'http://www.wikidata.org/entity/Q9205', 'annotator': 'Wikidata_Spotlight_Entity_Linker'}, 'dependency_path': None, 'confidence': None, 'subject': {'boundaries': [481, 489], 'surfaceform': 'Cambodia', 'uri': 'http://www.wikidata.org/entity/Q424', 'annotator': 'Wikidata_Spotlight_Entity_Linker'}, 'annotator': 'Simple-Aligner'}, {'sentence_id': 2, 'predicate': {'boundaries': None, 'surfaceform': None, 'uri': 'http://www.wikidata.org/prop/direct/P47', 'annotator': 'Simple-Aligner'}, 'object': {'boundaries': [469, 476], 'surfaceform': 'Vietnam', 'uri': 'http://www.wikidata.org/entity/Q881', 'annotator': 'Wikidata_Spotlight_Entity_Linker'}, 'dependency_path': None, 'confidence': None, 'subject': {'boundaries': [481, 489], 'surfaceform': 'Cambodia', 'uri': 'http://www.wikidata.org/entity/Q424', 'annotator': 'Wikidata_Spotlight_Entity_Linker'}, 'annotator': 'Simple-Aligner'}, {'sentence_id': 5, 'predicate': {'boundaries': None, 'surfaceform': None, 'uri': 'http://www.wikidata.org/prop/direct/P279', 'annotator': 'Simple-Aligner'}, 'object': {'boundaries': [773, 782], 'surfaceform': 'Mon–Khmer', 'uri': 'http://www.wikidata.org/entity/Q33199', 'annotator': 'Wikidata_Spotlight_Entity_Linker'}, 'dependency_path': None, 'confidence': None, 'subject': {'boundaries': [787, 792], 'surfaceform': 'Munda', 'uri': 'http://www.wikidata.org/entity/Q33892', 'annotator': 'Wikidata_Spotlight_Entity_Linker'}, 'annotator': 'Simple-Aligner'}, {'sentence_id': 6, 'predicate': {'boundaries': None, 'surfaceform': None, 'uri': 'http://www.wikidata.org/prop/direct/P279', 'annotator': 'Simple-Aligner'}, 'object': {'boundaries': [865, 874], 'surfaceform': 'Mon-Khmer', 'uri': 'http://www.wikidata.org/entity/Q33199', 'annotator': 'Wikidata_Spotlight_Entity_Linker'}, 'dependency_path': None, 'confidence': None, 'subject': {'boundaries': [850, 855], 'surfaceform': 'Munda', 'uri': 'http://www.wikidata.org/entity/Q33892', 'annotator': 'Wikidata_Spotlight_Entity_Linker'}, 'annotator': 'Simple-Aligner'}, {'sentence_id': 6, 'predicate': {'boundaries': None, 'surfaceform': None, 'uri': 'http://www.wikidata.org/prop/direct/P279', 'annotator': 'Simple-Aligner'}, 'object': {'boundaries': [921, 930], 'surfaceform': 'Mon–Khmer', 'uri': 'http://www.wikidata.org/entity/Q33199', 'annotator': 'Wikidata_Spotlight_Entity_Linker'}, 'dependency_path': None, 'confidence': None, 'subject': {'boundaries': [850, 855], 'surfaceform': 'Munda', 'uri': 'http://www.wikidata.org/entity/Q33892', 'annotator': 'Wikidata_Spotlight_Entity_Linker'}, 'annotator': 'Simple-Aligner'}, {'sentence_id': 0, 'predicate': {'boundaries': [209, 215], 'surfaceform': 'border', 'uri': 'http://www.wikidata.org/prop/direct/P47', 'annotator': 'Wikidata_Property_Linker'}, 'object': {'boundaries': [174, 184], 'surfaceform': 'Bangladesh', 'uri': 'http://www.wikidata.org/entity/Q902', 'annotator': 'Wikidata_Spotlight_Entity_Linker'}, 'dependency_path': None, 'confidence': None, 'subject': {'boundaries': [167, 172], 'surfaceform': 'India', 'uri': 'http://www.wikidata.org/entity/Q668', 'annotator': 'Wikidata_Spotlight_Entity_Linker'}, 'annotator': 'SPOAligner'}, {'sentence_id': 0, 'predicate': {'boundaries': [209, 215], 'surfaceform': 'border', 'uri': 'http://www.wikidata.org/prop/direct/P47', 'annotator': 'Wikidata_Property_Linker'}, 'object': {'boundaries': [186, 191], 'surfaceform': 'Nepal', 'uri': 'http://www.wikidata.org/entity/Q837', 'annotator': 'Wikidata_Spotlight_Entity_Linker'}, 'dependency_path': None, 'confidence': None, 'subject': {'boundaries': [167, 172], 'surfaceform': 'India', 'uri': 'http://www.wikidata.org/entity/Q668', 'annotator': 'Wikidata_Spotlight_Entity_Linker'}, 'annotator': 'SPOAligner'}, {'sentence_id': 0, 'predicate': {'boundaries': [209, 215], 'surfaceform': 'border', 'uri': 'http://www.wikidata.org/prop/direct/P47', 'annotator': 'Wikidata_Property_Linker'}, 'object': {'boundaries': [219, 224], 'surfaceform': 'China', 'uri': 'http://www.wikidata.org/entity/Q148', 'annotator': 'Wikidata_Spotlight_Entity_Linker'}, 'dependency_path': None, 'confidence': None, 'subject': {'boundaries': [167, 172], 'surfaceform': 'India', 'uri': 'http://www.wikidata.org/entity/Q668', 'annotator': 'Wikidata_Spotlight_Entity_Linker'}, 'annotator': 'SPOAligner'}, {'sentence_id': 0, 'predicate': {'boundaries': [209, 215], 'surfaceform': 'border', 'uri': 'http://www.wikidata.org/prop/direct/P47', 'annotator': 'Wikidata_Property_Linker'}, 'object': {'boundaries': [167, 172], 'surfaceform': 'India', 'uri': 'http://www.wikidata.org/entity/Q668', 'annotator': 'Wikidata_Spotlight_Entity_Linker'}, 'dependency_path': None, 'confidence': None, 'subject': {'boundaries': [174, 184], 'surfaceform': 'Bangladesh', 'uri': 'http://www.wikidata.org/entity/Q902', 'annotator': 'Wikidata_Spotlight_Entity_Linker'}, 'annotator': 'SPOAligner'}, {'sentence_id': 0, 'predicate': {'boundaries': [209, 215], 'surfaceform': 'border', 'uri': 'http://www.wikidata.org/prop/direct/P47', 'annotator': 'Wikidata_Property_Linker'}, 'object': {'boundaries': [167, 172], 'surfaceform': 'India', 'uri': 'http://www.wikidata.org/entity/Q668', 'annotator': 'Wikidata_Spotlight_Entity_Linker'}, 'dependency_path': None, 'confidence': None, 'subject': {'boundaries': [186, 191], 'surfaceform': 'Nepal', 'uri': 'http://www.wikidata.org/entity/Q837', 'annotator': 'Wikidata_Spotlight_Entity_Linker'}, 'annotator': 'SPOAligner'}, {'sentence_id': 0, 'predicate': {'boundaries': [209, 215], 'surfaceform': 'border', 'uri': 'http://www.wikidata.org/prop/direct/P47', 'annotator': 'Wikidata_Property_Linker'}, 'object': {'boundaries': [219, 224], 'surfaceform': 'China', 'uri': 'http://www.wikidata.org/entity/Q148', 'annotator': 'Wikidata_Spotlight_Entity_Linker'}, 'dependency_path': None, 'confidence': None, 'subject': {'boundaries': [186, 191], 'surfaceform': 'Nepal', 'uri': 'http://www.wikidata.org/entity/Q837', 'annotator': 'Wikidata_Spotlight_Entity_Linker'}, 'annotator': 'SPOAligner'}, {'sentence_id': 0, 'predicate': {'boundaries': [209, 215], 'surfaceform': 'border', 'uri': 'http://www.wikidata.org/prop/direct/P47', 'annotator': 'Wikidata_Property_Linker'}, 'object': {'boundaries': [167, 172], 'surfaceform': 'India', 'uri': 'http://www.wikidata.org/entity/Q668', 'annotator': 'Wikidata_Spotlight_Entity_Linker'}, 'dependency_path': None, 'confidence': None, 'subject': {'boundaries': [219, 224], 'surfaceform': 'China', 'uri': 'http://www.wikidata.org/entity/Q148', 'annotator': 'Wikidata_Spotlight_Entity_Linker'}, 'annotator': 'SPOAligner'}, {'sentence_id': 0, 'predicate': {'boundaries': [209, 215], 'surfaceform': 'border', 'uri': 'http://www.wikidata.org/prop/direct/P47', 'annotator': 'Wikidata_Property_Linker'}, 'object': {'boundaries': [186, 191], 'surfaceform': 'Nepal', 'uri': 'http://www.wikidata.org/entity/Q837', 'annotator': 'Wikidata_Spotlight_Entity_Linker'}, 'dependency_path': None, 'confidence': None, 'subject': {'boundaries': [219, 224], 'surfaceform': 'China', 'uri': 'http://www.wikidata.org/entity/Q148', 'annotator': 'Wikidata_Spotlight_Entity_Linker'}, 'annotator': 'SPOAligner'}], 'sentences_boundaries': [[0, 225], [226, 319], [320, 505], [506, 562], [563, 613], [614, 793], [794, 998], [999, 1158], [1159, 1357]]}\n"
     ]
    }
   ],
   "source": [
    "import json\n",
    "\n",
    "with open('re-nlg_0-10000.json', 'r') as f:\n",
    "    data = json.load(f)\n",
    "\n",
    "print(data[0])"
   ]
  },
  {
   "cell_type": "code",
   "execution_count": 2,
   "metadata": {},
   "outputs": [
    {
     "data": {
      "text/plain": [
       "dict_keys(['docid', 'title', 'text', 'uri', 'entities', 'words_boundaries', 'triples', 'sentences_boundaries'])"
      ]
     },
     "execution_count": 2,
     "metadata": {},
     "output_type": "execute_result"
    }
   ],
   "source": [
    "data[0].keys()"
   ]
  },
  {
   "cell_type": "code",
   "execution_count": null,
   "metadata": {},
   "outputs": [],
   "source": [
    "from llama_index.core import Document\n",
    "\n",
    "# document = Document(\n",
    "#     text=\"text\",\n",
    "#     metadata={\"filename\": \"<doc_file_name>\", \"category\": \"<category>\"},\n",
    "# )\n",
    "\n",
    "test_doc = Document(\n",
    "    text=data[0]['text'],\n",
    "    doc_id=data[0]['docid'],\n",
    ")"
   ]
  },
  {
   "cell_type": "code",
   "execution_count": 4,
   "metadata": {},
   "outputs": [
    {
     "ename": "AttributeError",
     "evalue": "partially initialized module 'nltk' has no attribute 'data' (most likely due to a circular import)",
     "output_type": "error",
     "traceback": [
      "\u001b[0;31m---------------------------------------------------------------------------\u001b[0m",
      "\u001b[0;31mAttributeError\u001b[0m                            Traceback (most recent call last)",
      "\u001b[1;32m/Users/jiangcheng/csdiy/Thesis/GraphVsVectorRAG/test.ipynb Cell 4\u001b[0m line \u001b[0;36m1\n\u001b[0;32m----> <a href='vscode-notebook-cell:/Users/jiangcheng/csdiy/Thesis/GraphVsVectorRAG/test.ipynb#X10sZmlsZQ%3D%3D?line=0'>1</a>\u001b[0m \u001b[39mfrom\u001b[39;00m \u001b[39mllama_index\u001b[39;00m\u001b[39m.\u001b[39;00m\u001b[39mcore\u001b[39;00m \u001b[39mimport\u001b[39;00m Document\n\u001b[1;32m      <a href='vscode-notebook-cell:/Users/jiangcheng/csdiy/Thesis/GraphVsVectorRAG/test.ipynb#X10sZmlsZQ%3D%3D?line=1'>2</a>\u001b[0m \u001b[39mfrom\u001b[39;00m \u001b[39mllama_index\u001b[39;00m\u001b[39m.\u001b[39;00m\u001b[39mcore\u001b[39;00m\u001b[39m.\u001b[39;00m\u001b[39mschema\u001b[39;00m \u001b[39mimport\u001b[39;00m MetadataMode\n\u001b[1;32m      <a href='vscode-notebook-cell:/Users/jiangcheng/csdiy/Thesis/GraphVsVectorRAG/test.ipynb#X10sZmlsZQ%3D%3D?line=3'>4</a>\u001b[0m document \u001b[39m=\u001b[39m Document(\n\u001b[1;32m      <a href='vscode-notebook-cell:/Users/jiangcheng/csdiy/Thesis/GraphVsVectorRAG/test.ipynb#X10sZmlsZQ%3D%3D?line=4'>5</a>\u001b[0m     text\u001b[39m=\u001b[39m\u001b[39m\"\u001b[39m\u001b[39mThis is a super-customized document\u001b[39m\u001b[39m\"\u001b[39m,\n\u001b[1;32m      <a href='vscode-notebook-cell:/Users/jiangcheng/csdiy/Thesis/GraphVsVectorRAG/test.ipynb#X10sZmlsZQ%3D%3D?line=5'>6</a>\u001b[0m     metadata\u001b[39m=\u001b[39m{\n\u001b[0;32m   (...)\u001b[0m\n\u001b[1;32m     <a href='vscode-notebook-cell:/Users/jiangcheng/csdiy/Thesis/GraphVsVectorRAG/test.ipynb#X10sZmlsZQ%3D%3D?line=13'>14</a>\u001b[0m     text_template\u001b[39m=\u001b[39m\u001b[39m\"\u001b[39m\u001b[39mMetadata: \u001b[39m\u001b[39m{metadata_str}\u001b[39;00m\u001b[39m\\n\u001b[39;00m\u001b[39m-----\u001b[39m\u001b[39m\\n\u001b[39;00m\u001b[39mContent: \u001b[39m\u001b[39m{content}\u001b[39;00m\u001b[39m\"\u001b[39m,\n\u001b[1;32m     <a href='vscode-notebook-cell:/Users/jiangcheng/csdiy/Thesis/GraphVsVectorRAG/test.ipynb#X10sZmlsZQ%3D%3D?line=14'>15</a>\u001b[0m )\n",
      "File \u001b[0;32m~/miniconda3/lib/python3.11/site-packages/llama_index/core/__init__.py:10\u001b[0m\n\u001b[1;32m      7\u001b[0m \u001b[39mfrom\u001b[39;00m \u001b[39mtyping\u001b[39;00m \u001b[39mimport\u001b[39;00m Callable, Optional\n\u001b[1;32m      9\u001b[0m \u001b[39m# response\u001b[39;00m\n\u001b[0;32m---> 10\u001b[0m \u001b[39mfrom\u001b[39;00m \u001b[39mllama_index\u001b[39;00m\u001b[39m.\u001b[39;00m\u001b[39mcore\u001b[39;00m\u001b[39m.\u001b[39;00m\u001b[39mbase\u001b[39;00m\u001b[39m.\u001b[39;00m\u001b[39mresponse\u001b[39;00m\u001b[39m.\u001b[39;00m\u001b[39mschema\u001b[39;00m \u001b[39mimport\u001b[39;00m Response\n\u001b[1;32m     12\u001b[0m \u001b[39m# import global eval handler\u001b[39;00m\n\u001b[1;32m     13\u001b[0m \u001b[39mfrom\u001b[39;00m \u001b[39mllama_index\u001b[39;00m\u001b[39m.\u001b[39;00m\u001b[39mcore\u001b[39;00m\u001b[39m.\u001b[39;00m\u001b[39mcallbacks\u001b[39;00m\u001b[39m.\u001b[39;00m\u001b[39mglobal_handlers\u001b[39;00m \u001b[39mimport\u001b[39;00m set_global_handler\n",
      "File \u001b[0;32m~/miniconda3/lib/python3.11/site-packages/llama_index/core/base/response/schema.py:9\u001b[0m\n\u001b[1;32m      7\u001b[0m \u001b[39mfrom\u001b[39;00m \u001b[39mllama_index\u001b[39;00m\u001b[39m.\u001b[39;00m\u001b[39mcore\u001b[39;00m\u001b[39m.\u001b[39;00m\u001b[39masync_utils\u001b[39;00m \u001b[39mimport\u001b[39;00m asyncio_run\n\u001b[1;32m      8\u001b[0m \u001b[39mfrom\u001b[39;00m \u001b[39mllama_index\u001b[39;00m\u001b[39m.\u001b[39;00m\u001b[39mcore\u001b[39;00m\u001b[39m.\u001b[39;00m\u001b[39mbridge\u001b[39;00m\u001b[39m.\u001b[39;00m\u001b[39mpydantic\u001b[39;00m \u001b[39mimport\u001b[39;00m BaseModel\n\u001b[0;32m----> 9\u001b[0m \u001b[39mfrom\u001b[39;00m \u001b[39mllama_index\u001b[39;00m\u001b[39m.\u001b[39;00m\u001b[39mcore\u001b[39;00m\u001b[39m.\u001b[39;00m\u001b[39mschema\u001b[39;00m \u001b[39mimport\u001b[39;00m NodeWithScore\n\u001b[1;32m     10\u001b[0m \u001b[39mfrom\u001b[39;00m \u001b[39mllama_index\u001b[39;00m\u001b[39m.\u001b[39;00m\u001b[39mcore\u001b[39;00m\u001b[39m.\u001b[39;00m\u001b[39mtypes\u001b[39;00m \u001b[39mimport\u001b[39;00m TokenGen, TokenAsyncGen\n\u001b[1;32m     11\u001b[0m \u001b[39mfrom\u001b[39;00m \u001b[39mllama_index\u001b[39;00m\u001b[39m.\u001b[39;00m\u001b[39mcore\u001b[39;00m\u001b[39m.\u001b[39;00m\u001b[39mutils\u001b[39;00m \u001b[39mimport\u001b[39;00m truncate_text\n",
      "File \u001b[0;32m~/miniconda3/lib/python3.11/site-packages/llama_index/core/schema.py:27\u001b[0m\n\u001b[1;32m     25\u001b[0m \u001b[39mfrom\u001b[39;00m \u001b[39mllama_index\u001b[39;00m\u001b[39m.\u001b[39;00m\u001b[39mcore\u001b[39;00m\u001b[39m.\u001b[39;00m\u001b[39mbridge\u001b[39;00m\u001b[39m.\u001b[39;00m\u001b[39mpydantic_core\u001b[39;00m \u001b[39mimport\u001b[39;00m CoreSchema\n\u001b[1;32m     26\u001b[0m \u001b[39mfrom\u001b[39;00m \u001b[39mllama_index\u001b[39;00m\u001b[39m.\u001b[39;00m\u001b[39mcore\u001b[39;00m\u001b[39m.\u001b[39;00m\u001b[39minstrumentation\u001b[39;00m \u001b[39mimport\u001b[39;00m DispatcherSpanMixin\n\u001b[0;32m---> 27\u001b[0m \u001b[39mfrom\u001b[39;00m \u001b[39mllama_index\u001b[39;00m\u001b[39m.\u001b[39;00m\u001b[39mcore\u001b[39;00m\u001b[39m.\u001b[39;00m\u001b[39mutils\u001b[39;00m \u001b[39mimport\u001b[39;00m SAMPLE_TEXT, truncate_text\n\u001b[1;32m     28\u001b[0m \u001b[39mfrom\u001b[39;00m \u001b[39mtyping_extensions\u001b[39;00m \u001b[39mimport\u001b[39;00m Self\n\u001b[1;32m     30\u001b[0m \u001b[39mif\u001b[39;00m TYPE_CHECKING:\n",
      "File \u001b[0;32m~/miniconda3/lib/python3.11/site-packages/llama_index/core/utils.py:89\u001b[0m\n\u001b[1;32m     85\u001b[0m             \u001b[39mself\u001b[39m\u001b[39m.\u001b[39m_stopwords \u001b[39m=\u001b[39m stopwords\u001b[39m.\u001b[39mwords(\u001b[39m\"\u001b[39m\u001b[39menglish\u001b[39m\u001b[39m\"\u001b[39m)\n\u001b[1;32m     86\u001b[0m         \u001b[39mreturn\u001b[39;00m \u001b[39mself\u001b[39m\u001b[39m.\u001b[39m_stopwords\n\u001b[0;32m---> 89\u001b[0m globals_helper \u001b[39m=\u001b[39m GlobalsHelper()\n\u001b[1;32m     92\u001b[0m \u001b[39m# Global Tokenizer\u001b[39;00m\n\u001b[1;32m     93\u001b[0m \u001b[39m@runtime_checkable\u001b[39m\n\u001b[1;32m     94\u001b[0m \u001b[39mclass\u001b[39;00m \u001b[39mTokenizer\u001b[39;00m(Protocol):\n",
      "File \u001b[0;32m~/miniconda3/lib/python3.11/site-packages/llama_index/core/utils.py:45\u001b[0m, in \u001b[0;36mGlobalsHelper.__init__\u001b[0;34m(self)\u001b[0m\n\u001b[1;32m     43\u001b[0m \u001b[39mdef\u001b[39;00m \u001b[39m__init__\u001b[39m(\u001b[39mself\u001b[39m) \u001b[39m-\u001b[39m\u001b[39m>\u001b[39m \u001b[39mNone\u001b[39;00m:\n\u001b[1;32m     44\u001b[0m \u001b[39m    \u001b[39m\u001b[39m\"\"\"Initialize NLTK stopwords and punkt.\"\"\"\u001b[39;00m\n\u001b[0;32m---> 45\u001b[0m     \u001b[39mimport\u001b[39;00m \u001b[39mnltk\u001b[39;00m\n\u001b[1;32m     47\u001b[0m     \u001b[39mself\u001b[39m\u001b[39m.\u001b[39m_nltk_data_dir \u001b[39m=\u001b[39m os\u001b[39m.\u001b[39menviron\u001b[39m.\u001b[39mget(\n\u001b[1;32m     48\u001b[0m         \u001b[39m\"\u001b[39m\u001b[39mNLTK_DATA\u001b[39m\u001b[39m\"\u001b[39m,\n\u001b[1;32m     49\u001b[0m         os\u001b[39m.\u001b[39mpath\u001b[39m.\u001b[39mjoin(\n\u001b[0;32m   (...)\u001b[0m\n\u001b[1;32m     52\u001b[0m         ),\n\u001b[1;32m     53\u001b[0m     )\n\u001b[1;32m     55\u001b[0m     \u001b[39mif\u001b[39;00m \u001b[39mself\u001b[39m\u001b[39m.\u001b[39m_nltk_data_dir \u001b[39mnot\u001b[39;00m \u001b[39min\u001b[39;00m nltk\u001b[39m.\u001b[39mdata\u001b[39m.\u001b[39mpath:\n",
      "File \u001b[0;32m~/miniconda3/lib/python3.11/site-packages/nltk/__init__.py:180\u001b[0m\n\u001b[1;32m    177\u001b[0m \u001b[39melse\u001b[39;00m:\n\u001b[1;32m    178\u001b[0m     \u001b[39mfrom\u001b[39;00m \u001b[39mnltk\u001b[39;00m \u001b[39mimport\u001b[39;00m cluster\n\u001b[0;32m--> 180\u001b[0m \u001b[39mfrom\u001b[39;00m \u001b[39mnltk\u001b[39;00m\u001b[39m.\u001b[39;00m\u001b[39mdownloader\u001b[39;00m \u001b[39mimport\u001b[39;00m download, download_shell\n\u001b[1;32m    182\u001b[0m \u001b[39mtry\u001b[39;00m:\n\u001b[1;32m    183\u001b[0m     \u001b[39mimport\u001b[39;00m \u001b[39mtkinter\u001b[39;00m\n",
      "File \u001b[0;32m~/miniconda3/lib/python3.11/site-packages/nltk/downloader.py:2475\u001b[0m\n\u001b[1;32m   2465\u001b[0m             \u001b[39mpass\u001b[39;00m\n\u001b[1;32m   2468\u001b[0m \u001b[39m######################################################################\u001b[39;00m\n\u001b[1;32m   2469\u001b[0m \u001b[39m# Main:\u001b[39;00m\n\u001b[1;32m   2470\u001b[0m \u001b[39m######################################################################\u001b[39;00m\n\u001b[0;32m   (...)\u001b[0m\n\u001b[1;32m   2473\u001b[0m \n\u001b[1;32m   2474\u001b[0m \u001b[39m# Aliases\u001b[39;00m\n\u001b[0;32m-> 2475\u001b[0m _downloader \u001b[39m=\u001b[39m Downloader()\n\u001b[1;32m   2476\u001b[0m download \u001b[39m=\u001b[39m _downloader\u001b[39m.\u001b[39mdownload\n\u001b[1;32m   2479\u001b[0m \u001b[39mdef\u001b[39;00m \u001b[39mdownload_shell\u001b[39m():\n",
      "File \u001b[0;32m~/miniconda3/lib/python3.11/site-packages/nltk/downloader.py:515\u001b[0m, in \u001b[0;36mDownloader.__init__\u001b[0;34m(self, server_index_url, download_dir)\u001b[0m\n\u001b[1;32m    513\u001b[0m \u001b[39m# decide where we're going to save things to.\u001b[39;00m\n\u001b[1;32m    514\u001b[0m \u001b[39mif\u001b[39;00m \u001b[39mself\u001b[39m\u001b[39m.\u001b[39m_download_dir \u001b[39mis\u001b[39;00m \u001b[39mNone\u001b[39;00m:\n\u001b[0;32m--> 515\u001b[0m     \u001b[39mself\u001b[39m\u001b[39m.\u001b[39m_download_dir \u001b[39m=\u001b[39m \u001b[39mself\u001b[39;49m\u001b[39m.\u001b[39;49mdefault_download_dir()\n",
      "File \u001b[0;32m~/miniconda3/lib/python3.11/site-packages/nltk/downloader.py:1068\u001b[0m, in \u001b[0;36mDownloader.default_download_dir\u001b[0;34m(self)\u001b[0m\n\u001b[1;32m   1064\u001b[0m     \u001b[39mreturn\u001b[39;00m\n\u001b[1;32m   1066\u001b[0m \u001b[39m# Check if we have sufficient permissions to install in a\u001b[39;00m\n\u001b[1;32m   1067\u001b[0m \u001b[39m# variety of system-wide locations.\u001b[39;00m\n\u001b[0;32m-> 1068\u001b[0m \u001b[39mfor\u001b[39;00m nltkdir \u001b[39min\u001b[39;00m nltk\u001b[39m.\u001b[39;49mdata\u001b[39m.\u001b[39mpath:\n\u001b[1;32m   1069\u001b[0m     \u001b[39mif\u001b[39;00m os\u001b[39m.\u001b[39mpath\u001b[39m.\u001b[39mexists(nltkdir) \u001b[39mand\u001b[39;00m nltk\u001b[39m.\u001b[39minternals\u001b[39m.\u001b[39mis_writable(nltkdir):\n\u001b[1;32m   1070\u001b[0m         \u001b[39mreturn\u001b[39;00m nltkdir\n",
      "\u001b[0;31mAttributeError\u001b[0m: partially initialized module 'nltk' has no attribute 'data' (most likely due to a circular import)"
     ]
    }
   ],
   "source": [
    "from llama_index.core import Document\n",
    "from llama_index.core.schema import MetadataMode\n",
    "\n",
    "document = Document(\n",
    "    text=\"This is a super-customized document\",\n",
    "    metadata={\n",
    "        \"file_name\": \"super_secret_document.txt\",\n",
    "        \"category\": \"finance\",\n",
    "        \"author\": \"LlamaIndex\",\n",
    "    },\n",
    "    excluded_llm_metadata_keys=[\"file_name\"],\n",
    "    metadata_seperator=\"::\",\n",
    "    metadata_template=\"{key}=>{value}\",\n",
    "    text_template=\"Metadata: {metadata_str}\\n-----\\nContent: {content}\",\n",
    ")\n",
    "\n",
    "print(\n",
    "    \"The LLM sees this: \\n\",\n",
    "    document.get_content(metadata_mode=MetadataMode.LLM),\n",
    ")\n",
    "print(\n",
    "    \"The Embedding model sees this: \\n\",\n",
    "    document.get_content(metadata_mode=MetadataMode.EMBED),\n",
    ")"
   ]
  },
  {
   "cell_type": "code",
   "execution_count": 17,
   "metadata": {},
   "outputs": [
    {
     "data": {
      "text/plain": [
       "{'sentence_id': 0,\n",
       " 'predicate': {'boundaries': None,\n",
       "  'surfaceform': None,\n",
       "  'uri': 'http://www.wikidata.org/prop/direct/P31',\n",
       "  'annotator': 'NoSubject-Triple-aligner'},\n",
       " 'object': {'boundaries': [94, 109],\n",
       "  'surfaceform': 'language family',\n",
       "  'uri': 'http://www.wikidata.org/entity/Q25295',\n",
       "  'annotator': 'Wikidata_Spotlight_Entity_Linker'},\n",
       " 'dependency_path': None,\n",
       " 'confidence': None,\n",
       " 'subject': {'boundaries': [4, 27],\n",
       "  'surfaceform': 'Austroasiatic languages',\n",
       "  'uri': 'http://www.wikidata.org/entity/Q33199',\n",
       "  'annotator': 'Wikidata_Spotlight_Entity_Linker'},\n",
       " 'annotator': 'NoSubject-Triple-aligner'}"
      ]
     },
     "execution_count": 17,
     "metadata": {},
     "output_type": "execute_result"
    }
   ],
   "source": [
    "data[0]['triples'][0]\n",
    "\n",
    "{'sentence_id': 0,\n",
    " 'predicate': {'boundaries': None,\n",
    "  'surfaceform': None,\n",
    "  'uri': 'http://www.wikidata.org/prop/direct/P31',\n",
    "  'annotator': 'NoSubject-Triple-aligner'},\n",
    " 'object': {'boundaries': [94, 109],\n",
    "  'surfaceform': 'language family',\n",
    "  'uri': 'http://www.wikidata.org/entity/Q25295',\n",
    "  'annotator': 'Wikidata_Spotlight_Entity_Linker'},\n",
    " 'dependency_path': None,\n",
    " 'confidence': None,\n",
    " 'subject': {'boundaries': [4, 27],\n",
    "  'surfaceform': 'Austroasiatic languages',\n",
    "  'uri': 'http://www.wikidata.org/entity/Q33199',\n",
    "  'annotator': 'Wikidata_Spotlight_Entity_Linker'},\n",
    " 'annotator': 'NoSubject-Triple-aligner'}"
   ]
  },
  {
   "cell_type": "code",
   "execution_count": 9,
   "metadata": {},
   "outputs": [
    {
     "data": {
      "text/plain": [
       "{'boundaries': [4, 27],\n",
       " 'surfaceform': 'Austroasiatic languages',\n",
       " 'uri': 'http://www.wikidata.org/entity/Q33199',\n",
       " 'annotator': 'Wikidata_Spotlight_Entity_Linker'}"
      ]
     },
     "execution_count": 9,
     "metadata": {},
     "output_type": "execute_result"
    }
   ],
   "source": [
    "data[0]['entities'][0]"
   ]
  },
  {
   "cell_type": "code",
   "execution_count": 10,
   "metadata": {},
   "outputs": [
    {
     "data": {
      "text/plain": [
       "{'boundaries': [71, 80],\n",
       " 'surfaceform': 'Mon–Khmer',\n",
       " 'uri': 'http://www.wikidata.org/entity/Q33199',\n",
       " 'annotator': 'Wikidata_Spotlight_Entity_Linker'}"
      ]
     },
     "execution_count": 10,
     "metadata": {},
     "output_type": "execute_result"
    }
   ],
   "source": [
    "data[0]['entities'][1]"
   ]
  },
  {
   "cell_type": "code",
   "execution_count": 11,
   "metadata": {},
   "outputs": [
    {
     "data": {
      "text/plain": [
       "{'boundaries': [94, 109],\n",
       " 'surfaceform': 'language family',\n",
       " 'uri': 'http://www.wikidata.org/entity/Q25295',\n",
       " 'annotator': 'Wikidata_Spotlight_Entity_Linker'}"
      ]
     },
     "execution_count": 11,
     "metadata": {},
     "output_type": "execute_result"
    }
   ],
   "source": [
    "data[0]['entities'][2]"
   ]
  }
 ],
 "metadata": {
  "kernelspec": {
   "display_name": "base",
   "language": "python",
   "name": "python3"
  },
  "language_info": {
   "codemirror_mode": {
    "name": "ipython",
    "version": 3
   },
   "file_extension": ".py",
   "mimetype": "text/x-python",
   "name": "python",
   "nbconvert_exporter": "python",
   "pygments_lexer": "ipython3",
   "version": "3.11.5"
  }
 },
 "nbformat": 4,
 "nbformat_minor": 2
}
